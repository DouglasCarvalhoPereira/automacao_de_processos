{
 "cells": [
  {
   "cell_type": "markdown",
   "id": "a26b3f02",
   "metadata": {},
   "source": [
    "# PROJETO SEM APLICAÇÃO SEM USAR ORIENTAÇÃO A OBJETOS"
   ]
  },
  {
   "cell_type": "markdown",
   "id": "860e6a57",
   "metadata": {},
   "source": [
    "## Importando arquivos e bibliotecas"
   ]
  },
  {
   "cell_type": "code",
   "execution_count": 32,
   "id": "fddb94e0",
   "metadata": {},
   "outputs": [],
   "source": [
    "#Importando bibliotecas\n",
    "import pandas as pd\n",
    "import pathlib\n",
    "import yagmail"
   ]
  },
  {
   "cell_type": "code",
   "execution_count": 33,
   "id": "981b371d",
   "metadata": {},
   "outputs": [],
   "source": [
    "#Importar base de dados\n",
    "emails = pd.read_excel(r'Bases de Dados\\Emails.xlsx')\n",
    "lojas = pd.read_csv(r'Bases de Dados\\Lojas.csv', encoding='latin1', sep=';')\n",
    "vendas = pd.read_excel(r'Bases de Dados\\Vendas.xlsx')"
   ]
  },
  {
   "cell_type": "markdown",
   "id": "4834459c",
   "metadata": {},
   "source": [
    "## Definir Criar uma Tabela para cada Loja e Definir o dia do Indicador"
   ]
  },
  {
   "cell_type": "code",
   "execution_count": 34,
   "id": "6a59b919",
   "metadata": {},
   "outputs": [],
   "source": [
    "#Incluindo nome das lojas na planilha de vendas\n",
    "vendas = vendas.merge(lojas, on='ID Loja')\n",
    "dicionario_de_lojas = {}\n",
    "for loja in lojas['Loja']:\n",
    "    #print(loja)\n",
    "    dicionario_de_lojas[loja] = vendas.loc[vendas['Loja'] == loja, :]  "
   ]
  },
  {
   "cell_type": "markdown",
   "id": "4ce2b718",
   "metadata": {},
   "source": [
    "## Calcular o indicador para 1 loja"
   ]
  },
  {
   "cell_type": "code",
   "execution_count": 35,
   "id": "1015447a",
   "metadata": {},
   "outputs": [],
   "source": [
    "#Pegando o dia indicador último dia e ano de vendas\n",
    "dia_indicador = vendas['Data'].max()"
   ]
  },
  {
   "cell_type": "markdown",
   "id": "345967ee",
   "metadata": {},
   "source": [
    "## Salvar a planilha na pasta de backup"
   ]
  },
  {
   "cell_type": "code",
   "execution_count": 36,
   "id": "f990e509",
   "metadata": {},
   "outputs": [],
   "source": [
    "#IDENTIFICAR SE A PASTA EXISTE\n",
    "\n",
    "#Indica o caminho do diretório\n",
    "caminho_backup = pathlib.Path('Backup Arquivos Lojas')\n",
    "#Listar arquivos dentro de um diretório\n",
    "arquivos_pasta_backup = caminho_backup.iterdir()\n",
    "#lista para armazenar nome dos arquivos da pasta\n",
    "lista_arquivos_na_pasta = [arquivo.name for arquivo in arquivos_pasta_backup]\n",
    "\n",
    "#Percorrer a lista de nomes criando um pasta para cada loja\n",
    "for loja in lojas['Loja']:\n",
    "    if loja not in lista_arquivos_na_pasta:\n",
    "        nova_pasta = caminho_backup / loja\n",
    "        nova_pasta.mkdir()\n",
    "    \n",
    "    #Caminho onde será salvo o arquivo\n",
    "    nome_arquivo = \"{}_{}_{}.xlsx\".format(dia_indicador.day, dia_indicador.month, loja)\n",
    "    local_arquivo = caminho_backup / loja / nome_arquivo\n",
    "    dicionario_de_lojas[loja].to_excel(local_arquivo)"
   ]
  },
  {
   "cell_type": "markdown",
   "id": "e4af22d5",
   "metadata": {},
   "source": [
    "# Calculando Indicadores e Enviando OnePage Para os Gerentes"
   ]
  },
  {
   "cell_type": "code",
   "execution_count": 37,
   "id": "035601c9",
   "metadata": {},
   "outputs": [
    {
     "name": "stdout",
     "output_type": "stream",
     "text": [
      "Email da Loja Iguatemi Esplanada enviado com sucesso!\n",
      "Email da Loja Shopping Midway Mall enviado com sucesso!\n",
      "Email da Loja Norte Shopping enviado com sucesso!\n",
      "Email da Loja Shopping Iguatemi Fortaleza enviado com sucesso!\n",
      "Email da Loja Shopping União de Osasco enviado com sucesso!\n",
      "Email da Loja Shopping Center Interlagos enviado com sucesso!\n",
      "Email da Loja Rio Mar Recife enviado com sucesso!\n",
      "Email da Loja Salvador Shopping enviado com sucesso!\n",
      "Email da Loja Rio Mar Shopping Fortaleza enviado com sucesso!\n",
      "Email da Loja Shopping Center Leste Aricanduva enviado com sucesso!\n",
      "Email da Loja Ribeirão Shopping enviado com sucesso!\n",
      "Email da Loja Shopping Morumbi enviado com sucesso!\n",
      "Email da Loja Parque Dom Pedro Shopping enviado com sucesso!\n",
      "Email da Loja Bourbon Shopping SP enviado com sucesso!\n",
      "Email da Loja Palladium Shopping Curitiba enviado com sucesso!\n",
      "Email da Loja Passei das Águas Shopping enviado com sucesso!\n",
      "Email da Loja Center Shopping Uberlândia enviado com sucesso!\n",
      "Email da Loja Shopping Recife enviado com sucesso!\n",
      "Email da Loja Shopping Vila Velha enviado com sucesso!\n",
      "Email da Loja Shopping SP Market enviado com sucesso!\n",
      "Email da Loja Shopping Eldorado enviado com sucesso!\n",
      "Email da Loja Shopping Ibirapuera enviado com sucesso!\n",
      "Email da Loja Novo Shopping Ribeirão Preto enviado com sucesso!\n",
      "Email da Loja Iguatemi Campinas enviado com sucesso!\n",
      "Email da Loja Shopping Barra enviado com sucesso!\n"
     ]
    }
   ],
   "source": [
    "for loja in dicionario_de_lojas:\n",
    "    vendas_loja = dicionario_de_lojas[loja]\n",
    "    vendas_loja_dia = vendas_loja.loc[vendas_loja['Data'] == dia_indicador, :]\n",
    "\n",
    "    #Faturamento\n",
    "    faturamento_loja_ano = vendas_loja['Valor Final'].sum()\n",
    "    faturamento_loja_dia = vendas_loja_dia['Valor Final'].sum()\n",
    "\n",
    "    #Diversidade de produtos\n",
    "    qtd_produto_ano = len(vendas_loja['Produto'].unique())\n",
    "    qtd_produto_dia = len(vendas_loja_dia['Produto'].unique())\n",
    "\n",
    "    #Ticket Médio\n",
    "    #ANO\n",
    "    valor_por_venda = vendas_loja.groupby('Código Venda').sum()\n",
    "    ticket_medio_ano = valor_por_venda['Valor Final'].mean()\n",
    "\n",
    "    #DIA\n",
    "    vendas_loja_dia = vendas_loja_dia.groupby('Código Venda').sum()\n",
    "    ticket_medio_dia = vendas_loja_dia['Valor Final'].mean()\n",
    "\n",
    "    #Definição de metas\n",
    "    meta_faturamento_dia = 1000\n",
    "    meta_faturamento_ano = 1.650000\n",
    "    meta_qtdprodutos_dia = 4\n",
    "    meta_qtdprodutos_ano = 120\n",
    "    meta_ticket_medio_dia = 500\n",
    "    meta_ticket_medio_ano = 500\n",
    "\n",
    "    #ENVIANDO EMAIL PARA OS GERENTES\n",
    "    usuario = yagmail.SMTP(user='douglasmarketingbr@gmail.com', password='Bilhao50')\n",
    "    #ENVIAR EMAIL\n",
    "    #texto = 'Olá Douglas, esses email é para certificar o envio de email via Python. \\n\\n\\n\\n\\n\\Att.'\n",
    "    #usuario.send(to='carvalhodouglaspereira@gmail.com', subject='Send by Python', contents=texto)\n",
    "    nome = emails.loc[emails['Loja'] == loja, 'Gerente'].values[0]\n",
    "    to = emails.loc[emails['Loja'] == loja, 'E-mail'].values[0]\n",
    "    subject = 'OnePage Dia {}/{} - Loja {}'.format(dia_indicador.day, dia_indicador.month, loja)\n",
    "    arquivo = str(pathlib.Path.cwd() / caminho_backup / loja / f\"{dia_indicador.day}_{dia_indicador.month}_{loja}.xlsx\")\n",
    "\n",
    "    #Definindo cenário com base nos indicadores\n",
    "    if faturamento_loja_dia >= meta_faturamento_dia:\n",
    "        cor_fat_dia = 'green'\n",
    "    else:\n",
    "        cor_fat_dia = 'red'\n",
    "\n",
    "    if faturamento_loja_ano >= meta_faturamento_ano:\n",
    "        cor_fat_ano = 'green'\n",
    "    else:\n",
    "        cor_fat_ano = 'red' \n",
    "\n",
    "\n",
    "    if qtd_produto_dia >= meta_qtdprodutos_dia:\n",
    "        cor_qtd_dia = 'green'\n",
    "    else:\n",
    "        cor_qtd_dia = 'red'\n",
    "\n",
    "    if qtd_produto_ano >= meta_qtdprodutos_ano:\n",
    "        cor_qtd_ano = 'green'\n",
    "    else:\n",
    "        cor_qtd_ano = 'red'\n",
    "\n",
    "\n",
    "    if ticket_medio_dia >= meta_ticket_medio_dia:\n",
    "        cor_ticket_dia = 'green'\n",
    "    else:\n",
    "        cor_ticket_dia = 'red'\n",
    "\n",
    "    if ticket_medio_ano >= meta_ticket_medio_ano:\n",
    "        cor_ticket_ano = 'green'\n",
    "    else:\n",
    "        cor_ticket_ano = 'red'\n",
    "\n",
    "    #CORPO DO EMAIL    \n",
    "    conteudo_mail = f\"\"\"\n",
    "    <p>Bom dia, {nome}</p>\n",
    "    <p>O resultado de ontem <strong>({dia_indicador.day}/{dia_indicador.month})</strong> da <strong>Loja {loja}</strong> foi:</p>\n",
    "    <table>\n",
    "      <tr>\n",
    "        <th>INDICADOR</th>\n",
    "        <th>Valor Dia</th>\n",
    "        <th>Meta Dia</th>\n",
    "        <th>Cenário Dia</th>\n",
    "      </tr>\n",
    "      <tr>\n",
    "        <td>Faturamento</td>\n",
    "        <td style='text-align: center'>R${faturamento_loja_dia:.2f}</td>\n",
    "        <td style='text-align: center'>R${meta_faturamento_dia:.2f}</td>\n",
    "        <td style='text-align: center'><font color='{cor_fat_dia}'>◙</font></td>\n",
    "      </tr>\n",
    "      <tr>\n",
    "        <td>Diversidade de Produtos</td>\n",
    "        <td style='text-align: center'>{qtd_produto_dia}</td>\n",
    "        <td style='text-align: center'>{meta_qtdprodutos_dia}</td>\n",
    "        <td style='text-align: center'><font color='{cor_qtd_dia}'>◙</font></td>\n",
    "      </tr>\n",
    "      <tr>\n",
    "        <td>Ticket Medio</td>\n",
    "        <td style='text-align: center'>R${ticket_medio_dia:.2f}</td>\n",
    "        <td style='text-align: center'>R${meta_ticket_medio_dia:.2f}</td>\n",
    "        <td style='text-align: center'><font color='{cor_ticket_dia}'>◙</font></td>\n",
    "      </tr>\n",
    "    </table>\n",
    "    <table>\n",
    "      <tr>\n",
    "        <th>INDICADOR</th>\n",
    "        <th>Valor Dia</th>\n",
    "        <th>Meta Dia</th>\n",
    "        <th>Cenário Dia</th>\n",
    "      </tr>\n",
    "      <tr>\n",
    "        <td>Faturamento</td>\n",
    "        <td style='text-align: center'>R${faturamento_loja_ano:.2f}</td>\n",
    "        <td style='text-align: center'>R${meta_faturamento_ano:.2f}</td>\n",
    "        <td style='text-align: center'><font color='{cor_fat_ano}'>◙</font></td>\n",
    "      </tr>\n",
    "      <tr>\n",
    "        <td>Diversidade de Produtos</td>\n",
    "        <td style='text-align: center'>{qtd_produto_ano}</td>\n",
    "        <td style='text-align: center'>{meta_qtdprodutos_ano}</td>\n",
    "        <td style='text-align: center'><font color='{cor_qtd_ano}'>◙</font></td>\n",
    "      </tr>\n",
    "      <tr>\n",
    "        <td>Ticket Medio</td>\n",
    "        <td style='text-align: center'>R${ticket_medio_ano:.2f}</td>\n",
    "        <td style='text-align: center'>R${meta_ticket_medio_ano:.2f}</td>\n",
    "        <td style='text-align: center'><font color='{cor_ticket_ano}'>◙</font></td>\n",
    "      </tr>\n",
    "    </table>\n",
    "    <p>Segue em anexo planilha com todos os dados para mais detalhes.</p>\n",
    "\n",
    "    Att.\n",
    "    Douglas\n",
    "    \"\"\"\n",
    "    #Disparando email\n",
    "    usuario.send(to=to, subject=subject, contents=conteudo_mail, attachments=arquivo)\n",
    "    print('Email da Loja {} enviado com sucesso!'.format(loja))"
   ]
  },
  {
   "cell_type": "markdown",
   "id": "752274c6",
   "metadata": {},
   "source": [
    "# Arquivos Ranking Diário e Anual"
   ]
  },
  {
   "cell_type": "code",
   "execution_count": 101,
   "id": "85672e4d",
   "metadata": {},
   "outputs": [
    {
     "data": {
      "text/plain": [
       "1762419"
      ]
     },
     "metadata": {},
     "output_type": "display_data"
    },
    {
     "name": "stdout",
     "output_type": "stream",
     "text": [
      "Iguatemi Campinas\n"
     ]
    }
   ],
   "source": [
    "#RANKING FATURAMENTO ANUAL\n",
    "faturamento_por_loja = vendas.groupby('Loja')[['Loja', 'Valor Final']].sum().sort_values(by='Valor Final', ascending=False)\n",
    "\n",
    "nome_arquivo_ranking = \"{}_{}_Ranking Anual.xlsx\".format(dia_indicador.day, dia_indicador.month)\n",
    "faturamento_por_loja.to_excel(r'Backup Arquivos Lojas\\{}'.format(nome_arquivo_ranking))\n",
    "\n",
    "#RANKING FATURAMENTO DIÁRIO\n",
    "vendas_dia = vendas.loc[vendas['Data'] == dia_indicador, :]\n",
    "faturamento_por_loja_dia = vendas_dia.groupby('Loja')[['Loja', 'Valor Final']].sum().sort_values(by='Valor Final', ascending=False)\n",
    "\n",
    "nome_arquivo_ranking_dia = \"{}_{}_Ranking Diário.xlsx\".format(dia_indicador.day, dia_indicador.month)\n",
    "faturamento_por_loja_dia.to_excel(r'Backup Arquivos Lojas\\{}'.format(nome_arquivo_ranking_dia))\n",
    "\n",
    "display(faturamento_por_loja['Valor Final'].max())\n",
    "print(faturamento_por_loja.index[0])\n",
    "#print(faturamento_por_loja)"
   ]
  },
  {
   "cell_type": "markdown",
   "id": "061f58dc",
   "metadata": {},
   "source": [
    "## Enviar por email para o gerente"
   ]
  },
  {
   "cell_type": "code",
   "execution_count": 104,
   "id": "01e7d6a0",
   "metadata": {},
   "outputs": [
    {
     "name": "stdout",
     "output_type": "stream",
     "text": [
      "Email com ranking enviado com sucesso!\n"
     ]
    }
   ],
   "source": [
    "#ENVIANDO EMAIL PARA OS GERENTES\n",
    "usuario = yagmail.SMTP(user='douglasmarketingbr@gmail.com', password='Bilhao50')\n",
    "#ENVIAR EMAIL PARA DIRETORIA\n",
    "email_diretores = emails.loc[emails['Loja'] == 'Diretoria', 'E-mail'].values[0]\n",
    "assunto_diretores = f'Ranking Dia {dia_indicador.day}/{dia_indicador.month}'\n",
    "#Texto do email\n",
    "mail_diretor = f\"\"\"\n",
    "Prezados, bom dia\n",
    "\n",
    "Melhor loja do dia em faturamento: Loja {faturamento_por_loja_dia.index[0]} com faturamento R${faturamento_por_loja_dia['Valor Final'].max():.2f}.\n",
    "Pior Loja do dia em faturamento: Loja {faturamento_por_loja_dia.index[1]} com faturamento R${faturamento_por_loja_dia['Valor Final'].min():.2f}.\n",
    "\n",
    "Melhor Loja do Ano em faturamento: Loja {faturamento_por_loja.index[0]} com faturamento R${faturamento_por_loja['Valor Final'].max():.2f}.\n",
    "Pior Loja do Ano em faturamento: Loja {faturamento_por_loja.index[-1]} com faturamento R${faturamento_por_loja['Valor Final'].min():.2f}.\n",
    "\n",
    "Segue em anexo os rankings do dia e ano de todas as lojas.\n",
    "\n",
    "Qualquer dúvidas estou a disposição.\n",
    "\n",
    "Att.,\n",
    "Douglas\n",
    "\"\"\"\n",
    "\n",
    "\n",
    "arquivo_ranking_ano = pathlib.Path.cwd() / caminho_backup / f\"{dia_indicador.day}_{dia_indicador.month}_Ranking Anual.xlsx\"\n",
    "arquivo_ranking_dia = pathlib.Path.cwd() / caminho_backup / f\"{dia_indicador.day}_{dia_indicador.month}_Ranking Diário.xlsx\"\n",
    "arquivos_ranking = [arquivo_ranking_dia, arquivo_ranking_ano]\n",
    "\n",
    "#Disparando email\n",
    "usuario.send(to=email_diretores, subject=assunto_diretores, contents=mail_diretor, attachments=arquivos_ranking)\n",
    "print('Email com ranking enviado com sucesso!')"
   ]
  }
 ],
 "metadata": {
  "kernelspec": {
   "display_name": "Python 3 (ipykernel)",
   "language": "python",
   "name": "python3"
  },
  "language_info": {
   "codemirror_mode": {
    "name": "ipython",
    "version": 3
   },
   "file_extension": ".py",
   "mimetype": "text/x-python",
   "name": "python",
   "nbconvert_exporter": "python",
   "pygments_lexer": "ipython3",
   "version": "3.8.12"
  }
 },
 "nbformat": 4,
 "nbformat_minor": 5
}
